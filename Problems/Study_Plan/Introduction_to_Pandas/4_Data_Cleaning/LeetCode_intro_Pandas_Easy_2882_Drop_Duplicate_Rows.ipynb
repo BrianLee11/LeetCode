{
 "cells": [
  {
   "cell_type": "markdown",
   "metadata": {},
   "source": [
    "LeetCode - Introduction to Pandas\n",
    "\n",
    "https://leetcode.com/problems/drop-duplicate-rows/?envType=study-plan-v2&envId=introduction-to-pandas&lang=pythondata\n",
    "\n",
    "\n",
    "# 2882. Drop Duplicate Rows\n",
    "\n",
    "**Difficulty:** Easy  \n",
    "\n",
    "---\n",
    "\n",
    "### DataFrame customers\n",
    "\n",
    "| Column Name   | Type   |\n",
    "|---------------|--------|\n",
    "| customer_id   | int    |\n",
    "| name          | object |\n",
    "| email         | object |\n",
    "\n",
    "---\n",
    "\n",
    "There are some duplicate rows in the DataFrame based on the **email** column.\n",
    "\n",
    "Write a solution to remove these duplicate rows and keep only the **first occurrence**.\n",
    "\n",
    "The result format is in the following example.\n",
    "\n",
    "---\n",
    "\n",
    "### Example 1:\n",
    "\n",
    "#### Input:\n",
    "| customer_id | name      | email                |\n",
    "|-------------|-----------|----------------------|\n",
    "| 1           | Ella      | emily@example.com    |\n",
    "| 2           | David     | michael@example.com  |\n",
    "| 3           | Zachary   | sarah@example.com    |\n",
    "| 4           | Alice     | john@example.com     |\n",
    "| 5           | Finn      | john@example.com     |\n",
    "| 6           | Violet    | alice@example.com    |\n",
    "\n",
    "#### Output:\n",
    "| customer_id | name      | email                |\n",
    "|-------------|-----------|----------------------|\n",
    "| 1           | Ella      | emily@example.com    |\n",
    "| 2           | David     | michael@example.com  |\n",
    "| 3           | Zachary   | sarah@example.com    |\n",
    "| 4           | Alice     | john@example.com     |\n",
    "| 6           | Violet    | alice@example.com    |\n",
    "\n",
    "#### Explanation:\n",
    "Alice (customer_id = 4) and Finn (customer_id = 5) both use `john@example.com`, so only the first occurrence of this email is retained.\n",
    "\n",
    "---\n"
   ]
  },
  {
   "cell_type": "code",
   "execution_count": 4,
   "metadata": {},
   "outputs": [
    {
     "name": "stdout",
     "output_type": "stream",
     "text": [
      "   customer_id     name                email\n",
      "0            1     Ella    emily@example.com\n",
      "1            2    David  michael@example.com\n",
      "2            3  Zachary    sarah@example.com\n",
      "3            4    Alice     john@example.com\n",
      "4            5     Finn     john@example.com\n",
      "5            6   Violet    alice@example.com\n",
      "\n",
      "   customer_id     name                email\n",
      "0            1     Ella    emily@example.com\n",
      "1            2    David  michael@example.com\n",
      "2            3  Zachary    sarah@example.com\n",
      "3            4    Alice     john@example.com\n",
      "5            6   Violet    alice@example.com\n"
     ]
    }
   ],
   "source": [
    "# solution\n",
    "import pandas as pd\n",
    "\n",
    "data = {\n",
    "    'customer_id': [1,2,3,4,5,6],\n",
    "    'name': [\"Ella\", \"David\", \"Zachary\", \"Alice\", \"Finn\", \"Violet\"],\n",
    "    'email': [\"emily@example.com\", \"michael@example.com\", \"sarah@example.com\", \"john@example.com\", \"john@example.com\", \"alice@example.com\"]\n",
    "}\n",
    "\n",
    "df = pd.DataFrame(data)\n",
    "\n",
    "print(df)\n",
    "print()\n",
    "\n",
    "# Drop duplicates based on the 'email' column\n",
    "df_cleaned = df.drop_duplicates(subset=\"email\")\n",
    "\n",
    "print(df_cleaned)"
   ]
  },
  {
   "cell_type": "code",
   "execution_count": 5,
   "metadata": {},
   "outputs": [],
   "source": [
    "# LeetCode submission\n",
    "import pandas as pd\n",
    "\n",
    "def dropDuplicateEmails(customers: pd.DataFrame) -> pd.DataFrame:\n",
    "    return customers.drop_duplicates(subset = \"email\")"
   ]
  },
  {
   "cell_type": "code",
   "execution_count": 6,
   "metadata": {},
   "outputs": [
    {
     "name": "stdout",
     "output_type": "stream",
     "text": [
      "   customer_id     name                email\n",
      "0            1     Ella    emily@example.com\n",
      "1            2    David  michael@example.com\n",
      "2            3  Zachary    sarah@example.com\n",
      "3            4    Alice     john@example.com\n",
      "5            6   Violet    alice@example.com\n"
     ]
    }
   ],
   "source": [
    "result = dropDuplicateEmails(df)\n",
    "print(result)"
   ]
  }
 ],
 "metadata": {
  "kernelspec": {
   "display_name": "base",
   "language": "python",
   "name": "python3"
  },
  "language_info": {
   "codemirror_mode": {
    "name": "ipython",
    "version": 3
   },
   "file_extension": ".py",
   "mimetype": "text/x-python",
   "name": "python",
   "nbconvert_exporter": "python",
   "pygments_lexer": "ipython3",
   "version": "3.11.5"
  }
 },
 "nbformat": 4,
 "nbformat_minor": 2
}
