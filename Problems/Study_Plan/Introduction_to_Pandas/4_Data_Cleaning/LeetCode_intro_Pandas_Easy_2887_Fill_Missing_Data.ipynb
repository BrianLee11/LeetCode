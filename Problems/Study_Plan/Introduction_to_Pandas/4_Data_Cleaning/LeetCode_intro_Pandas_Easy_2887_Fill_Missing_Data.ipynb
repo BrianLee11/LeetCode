{
 "cells": [
  {
   "cell_type": "markdown",
   "metadata": {},
   "source": [
    "LeetCode - Introduction to Pandas\n",
    "\n",
    "https://leetcode.com/problems/fill-missing-data/description/?envType=study-plan-v2&envId=introduction-to-pandas&lang=pythondata\n",
    "\n",
    "## 2887. Fill Missing Data\n",
    "\n",
    "Difficulty: Easy\n",
    "\n",
    "---\n",
    "\n",
    "## DataFrame `products`\n",
    "\n",
    "| Column Name | Type   |\n",
    "|-------------|--------|\n",
    "| name        | object |\n",
    "| quantity    | int    |\n",
    "| price       | int    |\n",
    "\n",
    "Write a solution to fill in the missing value as **0** in the `quantity` column.\n",
    "\n",
    "The result format is in the following example.\n",
    "\n",
    "---\n",
    "\n",
    "### Example 1\n",
    "\n",
    "**Input:**\n",
    "\n",
    "| name            | quantity | price |\n",
    "|-----------------|----------|-------|\n",
    "| Wristwatch      | None     | 135   |\n",
    "| WirelessEarbuds | None     | 821   |\n",
    "| GolfClubs       | 779      | 9319  |\n",
    "| Printer         | 849      | 3051  |\n",
    "\n",
    "**Output:**\n",
    "\n",
    "| name            | quantity | price |\n",
    "|-----------------|----------|-------|\n",
    "| Wristwatch      | 0        | 135   |\n",
    "| WirelessEarbuds | 0        | 821   |\n",
    "| GolfClubs       | 779      | 9319  |\n",
    "| Printer         | 849      | 3051  |\n",
    "\n",
    "**Explanation:**\n",
    "The quantity for Wristwatch and WirelessEarbuds are filled by **0**.\n",
    "\n",
    "\n",
    "---"
   ]
  },
  {
   "cell_type": "code",
   "execution_count": 20,
   "metadata": {},
   "outputs": [
    {
     "name": "stdout",
     "output_type": "stream",
     "text": [
      "              name  quantity  price\n",
      "0       Wristwatch       NaN    135\n",
      "1  WirelessEarbuds       NaN    821\n",
      "2        GolfClubs     779.0    939\n",
      "3          Printer     849.0   3051\n"
     ]
    }
   ],
   "source": [
    "# solution\n",
    "import pandas as pd\n",
    "\n",
    "data = {\n",
    "    'name' : [\"Wristwatch\", \"WirelessEarbuds\", \"GolfClubs\", \"Printer\"],\n",
    "    'quantity' : [None, None, 779, 849],\n",
    "    'price' : [135, 821, 939, 3051]\n",
    "}\n",
    "\n",
    "df = pd.DataFrame(data)\n",
    "\n",
    "print(df)"
   ]
  },
  {
   "cell_type": "code",
   "execution_count": 21,
   "metadata": {},
   "outputs": [
    {
     "name": "stdout",
     "output_type": "stream",
     "text": [
      "              name  quantity  price\n",
      "0       Wristwatch       0.0    135\n",
      "1  WirelessEarbuds       0.0    821\n",
      "2        GolfClubs     779.0    939\n",
      "3          Printer     849.0   3051\n"
     ]
    }
   ],
   "source": [
    "df['quantity'].fillna(0, inplace=True)\n",
    "print(df)"
   ]
  },
  {
   "cell_type": "code",
   "execution_count": 22,
   "metadata": {},
   "outputs": [
    {
     "name": "stdout",
     "output_type": "stream",
     "text": [
      "              name  quantity  price\n",
      "0       Wristwatch         0    135\n",
      "1  WirelessEarbuds         0    821\n",
      "2        GolfClubs       779    939\n",
      "3          Printer       849   3051\n",
      "name        object\n",
      "quantity     int32\n",
      "price        int64\n",
      "dtype: object\n"
     ]
    }
   ],
   "source": [
    "df['quantity'] = df['quantity'].astype(int)\n",
    "\n",
    "print(df)\n",
    "\n",
    "print(df.dtypes)"
   ]
  },
  {
   "cell_type": "code",
   "execution_count": 26,
   "metadata": {},
   "outputs": [],
   "source": [
    "# LeetCode submission\n",
    "import pandas as pd\n",
    "def fillMissingValues(products: pd.DataFrame) -> pd.DataFrame:\n",
    "    products['quantity'].fillna(0, inplace = True)\n",
    "    products['quantity'] = products['quantity'].astype(int)\n",
    "    return products   "
   ]
  },
  {
   "cell_type": "code",
   "execution_count": 27,
   "metadata": {},
   "outputs": [],
   "source": [
    "data = {\n",
    "    'name' : [\"Wristwatch\", \"WirelessEarbuds\", \"GolfClubs\", \"Printer\"],\n",
    "    'quantity' : [None, None, 779, 849],\n",
    "    'price' : [135, 821, 939, 3051]\n",
    "}\n",
    "\n",
    "df = pd.DataFrame(data)"
   ]
  },
  {
   "cell_type": "code",
   "execution_count": 28,
   "metadata": {},
   "outputs": [
    {
     "name": "stdout",
     "output_type": "stream",
     "text": [
      "              name  quantity  price\n",
      "0       Wristwatch         0    135\n",
      "1  WirelessEarbuds         0    821\n",
      "2        GolfClubs       779    939\n",
      "3          Printer       849   3051\n"
     ]
    }
   ],
   "source": [
    "fillMissingValues(df)\n",
    "\n",
    "print(df)"
   ]
  }
 ],
 "metadata": {
  "kernelspec": {
   "display_name": "base",
   "language": "python",
   "name": "python3"
  },
  "language_info": {
   "codemirror_mode": {
    "name": "ipython",
    "version": 3
   },
   "file_extension": ".py",
   "mimetype": "text/x-python",
   "name": "python",
   "nbconvert_exporter": "python",
   "pygments_lexer": "ipython3",
   "version": "3.11.5"
  }
 },
 "nbformat": 4,
 "nbformat_minor": 2
}
