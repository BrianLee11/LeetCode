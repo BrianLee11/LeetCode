{
 "cells": [
  {
   "cell_type": "markdown",
   "metadata": {},
   "source": [
    "LeetCode - Introduction to Pandas\n",
    "\n",
    "https://leetcode.com/problems/drop-missing-data/description/?envType=study-plan-v2&envId=introduction-to-pandas&lang=pythondata"
   ]
  },
  {
   "cell_type": "markdown",
   "metadata": {},
   "source": [
    "# 2883. Drop Missing Data\n",
    "\n",
    "**Difficulty:** Easy  \n",
    "\n",
    "---\n",
    "\n",
    "### DataFrame students\n",
    "\n",
    "| Column Name   | Type   |\n",
    "|---------------|--------|\n",
    "| student_id    | int    |\n",
    "| name          | object |\n",
    "| age           | int    |\n",
    "\n",
    "---\n",
    "\n",
    "There are some rows having missing values in the **name** column.\n",
    "\n",
    "Write a solution to remove the rows with missing values.\n",
    "\n",
    "The result format is in the following example.\n",
    "\n",
    "---\n",
    "\n",
    "### Example 1:\n",
    "\n",
    "#### Input:\n",
    "| student_id | name      | age |\n",
    "|------------|-----------|-----|\n",
    "| 32         | Piper     | 5   |\n",
    "| 217        | None      | 19  |\n",
    "| 779        | Georgia   | 20  |\n",
    "| 849        | Willow    | 14  |\n",
    "\n",
    "#### Output:\n",
    "| student_id | name      | age |\n",
    "|------------|-----------|-----|\n",
    "| 32         | Piper     | 5   |\n",
    "| 779        | Georgia   | 20  |\n",
    "| 849        | Willow    | 14  |\n",
    "\n",
    "#### Explanation:\n",
    "Student with id 217 has an empty value in the **name** column, so it will be removed.\n",
    "\n",
    "----"
   ]
  }
 ],
 "metadata": {
  "language_info": {
   "name": "python"
  }
 },
 "nbformat": 4,
 "nbformat_minor": 2
}
