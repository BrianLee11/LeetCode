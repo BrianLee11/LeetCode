{
 "cells": [
  {
   "cell_type": "markdown",
   "metadata": {},
   "source": [
    "LeetCode - Introduction to Pandas\n",
    "\n",
    "https://leetcode.com/problems/drop-missing-data/description/?envType=study-plan-v2&envId=introduction-to-pandas&lang=pythondata"
   ]
  },
  {
   "cell_type": "markdown",
   "metadata": {},
   "source": [
    "# 2883. Drop Missing Data\n",
    "\n",
    "**Difficulty:** Easy  \n",
    "\n",
    "---\n",
    "\n",
    "### DataFrame students\n",
    "\n",
    "| Column Name   | Type   |\n",
    "|---------------|--------|\n",
    "| student_id    | int    |\n",
    "| name          | object |\n",
    "| age           | int    |\n",
    "\n",
    "---\n",
    "\n",
    "There are some rows having missing values in the **name** column.\n",
    "\n",
    "Write a solution to remove the rows with missing values.\n",
    "\n",
    "The result format is in the following example.\n",
    "\n",
    "---\n",
    "\n",
    "### Example 1:\n",
    "\n",
    "#### Input:\n",
    "| student_id | name      | age |\n",
    "|------------|-----------|-----|\n",
    "| 32         | Piper     | 5   |\n",
    "| 217        | None      | 19  |\n",
    "| 779        | Georgia   | 20  |\n",
    "| 849        | Willow    | 14  |\n",
    "\n",
    "#### Output:\n",
    "| student_id | name      | age |\n",
    "|------------|-----------|-----|\n",
    "| 32         | Piper     | 5   |\n",
    "| 779        | Georgia   | 20  |\n",
    "| 849        | Willow    | 14  |\n",
    "\n",
    "#### Explanation:\n",
    "Student with id 217 has an empty value in the **name** column, so it will be removed.\n",
    "\n",
    "----"
   ]
  },
  {
   "cell_type": "code",
   "execution_count": 5,
   "metadata": {},
   "outputs": [
    {
     "name": "stdout",
     "output_type": "stream",
     "text": [
      "   student_id     name  age\n",
      "0          32    Piper    5\n",
      "1         217      NaN   19\n",
      "2         779  Georgia   20\n",
      "3         849   Willow   14\n"
     ]
    }
   ],
   "source": [
    "# solution\n",
    "import numpy as np\n",
    "import pandas as pd\n",
    "\n",
    "data = {\n",
    "    \"student_id\" : [32, 217, 779, 849],\n",
    "    \"name\" : [\"Piper\", np.nan, \"Georgia\", \"Willow\"],\n",
    "    \"age\" : [5, 19, 20, 14]\n",
    "}\n",
    "\n",
    "df = pd.DataFrame(data)\n",
    "print(df)"
   ]
  },
  {
   "cell_type": "code",
   "execution_count": 12,
   "metadata": {},
   "outputs": [
    {
     "name": "stdout",
     "output_type": "stream",
     "text": [
      "   student_id     name  age\n",
      "0          32    Piper    5\n",
      "2         779  Georgia   20\n",
      "3         849   Willow   14\n"
     ]
    }
   ],
   "source": [
    "df_clean = df.dropna(subset=[\"name\"])\n",
    "print(df_clean)"
   ]
  },
  {
   "cell_type": "code",
   "execution_count": 13,
   "metadata": {},
   "outputs": [],
   "source": [
    "# LeetCode submission\n",
    "import pandas as pd\n",
    "\n",
    "def dropMissingData(students: pd.DataFrame) -> pd.DataFrame:\n",
    "    \"\"\"\n",
    "    Drops rows with missing data in the students DataFrame.\n",
    "    \n",
    "    Parameters:\n",
    "    - students (pd.DataFrame): Input DataFrame containing student data.\n",
    "    \n",
    "    Returns:\n",
    "    - pd.DataFrame: A new DataFrame with rows containing missing values removed.\n",
    "    \"\"\"\n",
    "    # Drop rows with any missing values\n",
    "    cleaned_students = students.dropna(subset = [\"name\"])\n",
    "    \n",
    "    return cleaned_students"
   ]
  },
  {
   "cell_type": "code",
   "execution_count": 14,
   "metadata": {},
   "outputs": [
    {
     "name": "stdout",
     "output_type": "stream",
     "text": [
      "   student_id     name  age\n",
      "0          32    Piper    5\n",
      "2         779  Georgia   20\n",
      "3         849   Willow   14\n"
     ]
    }
   ],
   "source": [
    "result = dropMissingData(df)\n",
    "print(result)"
   ]
  }
 ],
 "metadata": {
  "kernelspec": {
   "display_name": "base",
   "language": "python",
   "name": "python3"
  },
  "language_info": {
   "codemirror_mode": {
    "name": "ipython",
    "version": 3
   },
   "file_extension": ".py",
   "mimetype": "text/x-python",
   "name": "python",
   "nbconvert_exporter": "python",
   "pygments_lexer": "ipython3",
   "version": "3.11.5"
  }
 },
 "nbformat": 4,
 "nbformat_minor": 2
}
