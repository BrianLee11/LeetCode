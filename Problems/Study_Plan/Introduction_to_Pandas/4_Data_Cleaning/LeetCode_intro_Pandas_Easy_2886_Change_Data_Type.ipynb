{
 "cells": [
  {
   "cell_type": "markdown",
   "metadata": {},
   "source": [
    "LeetCode - Introduction to Pandas\n",
    "\n",
    "https://leetcode.com/problems/change-data-type/description/?envType=study-plan-v2&envId=introduction-to-pandas&lang=pythondata\n",
    "\n",
    "## 2886. Change Data Type\n",
    "\n",
    "Difficulty: Easy\n",
    "\n",
    "---\n",
    "\n",
    "**DataFrame** `students`  \n",
    "| Column Name | Type   |\n",
    "|-------------|--------|\n",
    "| id          | int    |\n",
    "| first       | object |\n",
    "| last        | object |\n",
    "| age         | int    |\n",
    "\n",
    "Write a solution to correct the errors:\n",
    "\n",
    "The `grade` column is stored as floats, convert it to integers.\n",
    "\n",
    "The result format is in the following example.\n",
    "\n",
    "### Example 1:\n",
    "**Input:**\n",
    "\n",
    "DataFrame `students`:\n",
    "\n",
    "| student_id | name | age | grade |\n",
    "|------------|------|-----|-------|\n",
    "| 1          | Ava  | 6   | 73.0  |\n",
    "| 2          | Kate | 15  | 87.0  |\n",
    "\n",
    "**Output:**\n",
    "\n",
    "| student_id | name | age | grade |\n",
    "|------------|------|-----|-------|\n",
    "| 1          | Ava  | 6   | 73    |\n",
    "| 2          | Kate | 15  | 87    |\n",
    "\n",
    "**Explanation:**\n",
    "\n",
    "The data types of the column `grade` is converted to `int`.\n",
    "\n",
    "---"
   ]
  },
  {
   "cell_type": "code",
   "execution_count": 8,
   "metadata": {},
   "outputs": [
    {
     "name": "stdout",
     "output_type": "stream",
     "text": [
      "   student_id  name  age  grade\n",
      "0           1   Ava    6   73.0\n",
      "1           2  Kate   15   87.0\n",
      "student_id      int64\n",
      "name           object\n",
      "age             int64\n",
      "grade         float64\n",
      "dtype: object\n"
     ]
    }
   ],
   "source": [
    "# solution\n",
    "import pandas as pd\n",
    "\n",
    "data = {\n",
    "    'student_id' : [1,2],\n",
    "    'name' : [\"Ava\", \"Kate\"],\n",
    "    'age' : [6, 15],\n",
    "    'grade' : [73.0, 87.0]\n",
    "}\n",
    "\n",
    "df = pd.DataFrame(data)\n",
    "\n",
    "print(df)\n",
    "print(df.dtypes)"
   ]
  },
  {
   "cell_type": "code",
   "execution_count": 7,
   "metadata": {},
   "outputs": [
    {
     "name": "stdout",
     "output_type": "stream",
     "text": [
      "   student_id  name  age  grade\n",
      "0           1   Ava    6     73\n",
      "1           2  Kate   15     87\n"
     ]
    }
   ],
   "source": [
    "df = df.astype({'grade': 'int'})\n",
    "print(df)"
   ]
  },
  {
   "cell_type": "code",
   "execution_count": 33,
   "metadata": {},
   "outputs": [],
   "source": [
    "# LeetCode submission\n",
    "import pandas as pd\n",
    "from typing import List \n",
    "\n",
    "def changeDatatype(students: pd.DataFrame) -> pd.DataFrame:\n",
    "    # to cast columns individually, which works on all pandas versions\n",
    "    students['grade'] = students['grade'].astype(int)\n",
    "    return students"
   ]
  },
  {
   "cell_type": "code",
   "execution_count": 36,
   "metadata": {},
   "outputs": [
    {
     "name": "stdout",
     "output_type": "stream",
     "text": [
      "   student_id  name  age  grade\n",
      "0           1   Ava    6     73\n",
      "1           2  Kate   15     78\n"
     ]
    }
   ],
   "source": [
    "# testing\n",
    "data = {\n",
    "    \"student_id\" : [1,2],\n",
    "    \"name\" : [\"Ava\", \"Kate\"],\n",
    "    \"age\" : [6, 15],\n",
    "    \"grade\" : [73.0, 78.0]\n",
    "}\n",
    "\n",
    "df = pd.DataFrame(data)\n",
    "\n",
    "changeDatatype(df)\n",
    "\n",
    "print(df)"
   ]
  },
  {
   "cell_type": "code",
   "execution_count": 69,
   "metadata": {},
   "outputs": [],
   "source": [
    "# another version\n",
    "def changeDatatype(students: pd.DataFrame) -> pd.DataFrame:\n",
    "    students = students.astype({'grade': 'int'})\n",
    "    return students"
   ]
  },
  {
   "cell_type": "code",
   "execution_count": 71,
   "metadata": {},
   "outputs": [
    {
     "name": "stdout",
     "output_type": "stream",
     "text": [
      "   student_id  name  age  grade\n",
      "0           1   Ava    6     73\n",
      "1           2  Kate   15     78\n"
     ]
    }
   ],
   "source": [
    "# testing\n",
    "data = {\n",
    "    \"student_id\" : [1,2],\n",
    "    \"name\" : [\"Ava\", \"Kate\"],\n",
    "    \"age\" : [6, 15],\n",
    "    \"grade\" : [73.0, 78.0]\n",
    "}\n",
    "\n",
    "df = pd.DataFrame(data)\n",
    "\n",
    "df = changeDatatype(df)\n",
    "\n",
    "print(df)"
   ]
  }
 ],
 "metadata": {
  "kernelspec": {
   "display_name": "base",
   "language": "python",
   "name": "python3"
  },
  "language_info": {
   "codemirror_mode": {
    "name": "ipython",
    "version": 3
   },
   "file_extension": ".py",
   "mimetype": "text/x-python",
   "name": "python",
   "nbconvert_exporter": "python",
   "pygments_lexer": "ipython3",
   "version": "3.11.5"
  }
 },
 "nbformat": 4,
 "nbformat_minor": 2
}
