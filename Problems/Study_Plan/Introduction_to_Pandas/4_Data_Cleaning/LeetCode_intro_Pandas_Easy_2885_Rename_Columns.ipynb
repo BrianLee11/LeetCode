{
 "cells": [
  {
   "cell_type": "markdown",
   "metadata": {},
   "source": [
    "LeetCode - Introduction to Pandas\n",
    "\n",
    "https://leetcode.com/problems/rename-columns/description/?envType=study-plan-v2&envId=introduction-to-pandas&lang=pythondata\n",
    "\n",
    "## 2885. Rename Columns\n",
    "\n",
    "Difficulty: Easy\n",
    "\n",
    "---\n",
    "\n",
    "**DataFrame** `students`  \n",
    "| Column Name | Type   |\n",
    "|-------------|--------|\n",
    "| id          | int    |\n",
    "| first       | object |\n",
    "| last        | object |\n",
    "| age         | int    |\n",
    "\n",
    "---\n",
    "\n",
    "Write a solution to rename the columns as follows:\n",
    "\n",
    "- `id` to `student_id`\n",
    "- `first` to `first_name`\n",
    "- `last` to `last_name`\n",
    "- `age` to `age_in_years`\n",
    "\n",
    "The result format is in the following example.\n",
    "\n",
    "---\n",
    "\n",
    "### Example 1:\n",
    "\n",
    "**Input:**\n",
    "\n",
    "| id | first   | last     | age |\n",
    "|----|---------|----------|-----|\n",
    "| 1  | Mason   | King     | 6   |\n",
    "| 2  | Ava     | Wright   | 7   |\n",
    "| 3  | Taylor  | Hall     | 16  |\n",
    "| 4  | Georgia | Thompson | 18  |\n",
    "| 5  | Thomas  | Moore    | 10  |\n",
    "\n",
    "**Output:**\n",
    "\n",
    "| student_id | first_name | last_name | age_in_years |\n",
    "|------------|------------|-----------|--------------|\n",
    "| 1          | Mason      | King      | 6            |\n",
    "| 2          | Ava        | Wright    | 7            |\n",
    "| 3          | Taylor     | Hall      | 16           |\n",
    "| 4          | Georgia    | Thompson  | 18           |\n",
    "| 5          | Thomas     | Moore     | 10           |\n",
    "\n",
    "**Explanation:**\n",
    "\n",
    "The column names are changed accordingly.\n",
    "\n",
    "---"
   ]
  },
  {
   "cell_type": "code",
   "execution_count": 17,
   "metadata": {},
   "outputs": [
    {
     "name": "stdout",
     "output_type": "stream",
     "text": [
      "   id    first      last  age\n",
      "0   1    Mason      King    6\n",
      "1   2      Ava    Wright    7\n",
      "2   3   Taylor      Hall   16\n",
      "3   4  Georgia  Thompson   18\n",
      "4   5   Thomas     Moore   10\n"
     ]
    }
   ],
   "source": [
    "# solution\n",
    "import pandas as pd\n",
    "\n",
    "data = {\n",
    "    'id' : [1,2,3,4,5],\n",
    "    'first' : [\"Mason\", \"Ava\", \"Taylor\", \"Georgia\", \"Thomas\"],\n",
    "    'last' : [\"King\", \"Wright\", \"Hall\", \"Thompson\", \"Moore\"],\n",
    "    'age' : [6, 7, 16, 18, 10]    \n",
    "}\n",
    "\n",
    "df = pd.DataFrame(data)\n",
    "\n",
    "print(df)"
   ]
  },
  {
   "cell_type": "code",
   "execution_count": 18,
   "metadata": {},
   "outputs": [
    {
     "name": "stdout",
     "output_type": "stream",
     "text": [
      "   student_id first_name last_name  age_in_years\n",
      "0           1      Mason      King             6\n",
      "1           2        Ava    Wright             7\n",
      "2           3     Taylor      Hall            16\n",
      "3           4    Georgia  Thompson            18\n",
      "4           5     Thomas     Moore            10\n"
     ]
    }
   ],
   "source": [
    "df.rename(columns = {\"id\": \"student_id\", \"first\" : \"first_name\", \"last\": \"last_name\", \"age\": \"age_in_years\"}, inplace = True) # inplace = True modifies existing DataFrame directly. \n",
    "# If you omit it(or inplace = False) df.rename returns a new DataFrame without altering the original. \n",
    "\n",
    "print(df)"
   ]
  },
  {
   "cell_type": "code",
   "execution_count": 19,
   "metadata": {},
   "outputs": [],
   "source": [
    "# LeetCode submission\n",
    "import pandas as pd\n",
    "from typing import List  # Import List for type hinting\n",
    "\n",
    "def renameColumns(students: pd.DataFrame) -> pd.DataFrame:\n",
    "    students.rename(columns = {\"id\": \"student_id\", \"first\" : \"first_name\", \"last\": \"last_name\", \"age\": \"age_in_years\"}, inplace = True)\n",
    "    return students"
   ]
  },
  {
   "cell_type": "code",
   "execution_count": 20,
   "metadata": {},
   "outputs": [
    {
     "name": "stdout",
     "output_type": "stream",
     "text": [
      "   student_id first_name last_name  age_in_years\n",
      "0           1      Mason      King             6\n",
      "1           2        Ava    Wright             7\n",
      "2           3     Taylor      Hall            16\n",
      "3           4    Georgia  Thompson            18\n",
      "4           5     Thomas     Moore            10\n"
     ]
    }
   ],
   "source": [
    "# testing\n",
    "data = {\n",
    "    'id' : [1,2,3,4,5],\n",
    "    'first' : [\"Mason\", \"Ava\", \"Taylor\", \"Georgia\", \"Thomas\"],\n",
    "    'last' : [\"King\", \"Wright\", \"Hall\", \"Thompson\", \"Moore\"],\n",
    "    'age' : [6, 7, 16, 18, 10]    \n",
    "}\n",
    "\n",
    "df = pd.DataFrame(data)\n",
    "\n",
    "renameColumns(df)\n",
    "print(df)"
   ]
  }
 ],
 "metadata": {
  "kernelspec": {
   "display_name": "base",
   "language": "python",
   "name": "python3"
  },
  "language_info": {
   "codemirror_mode": {
    "name": "ipython",
    "version": 3
   },
   "file_extension": ".py",
   "mimetype": "text/x-python",
   "name": "python",
   "nbconvert_exporter": "python",
   "pygments_lexer": "ipython3",
   "version": "3.11.5"
  }
 },
 "nbformat": 4,
 "nbformat_minor": 2
}
