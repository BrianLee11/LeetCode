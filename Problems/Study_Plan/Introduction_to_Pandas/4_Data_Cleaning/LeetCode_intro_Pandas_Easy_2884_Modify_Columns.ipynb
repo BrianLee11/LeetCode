{
 "cells": [
  {
   "cell_type": "markdown",
   "metadata": {},
   "source": [
    "LeetCode - Introduction to Pandas\n",
    "\n",
    "https://leetcode.com/problems/modify-columns/description/?envType=study-plan-v2&envId=introduction-to-pandas&lang=pythondata\n",
    "\n",
    "# 2884. Modify Columns\n",
    "\n",
    "### Input:\n",
    "**DataFrame** `employees`\n",
    "| Column Name | Type   |\n",
    "|-------------|--------|\n",
    "| name        | object |\n",
    "| salary      | int    |\n",
    "|-------------|--------|\n",
    "\n",
    "A company intends to give its employees a pay rise.\n",
    "\n",
    "Write a solution to **modify** the `salary` column by multiplying each salary by 2.\n",
    "\n",
    "The result format is as shown in the example.\n",
    "\n",
    "---\n",
    "\n",
    "### Example 1:\n",
    "**Input:**\n",
    "```plaintext\n",
    "DataFrame employees\n",
    "+----------+--------+\n",
    "| name     | salary |\n",
    "+----------+--------+\n",
    "| Jack     | 19666  |\n",
    "| Piper    | 74754  |\n",
    "| Mia      | 62509  |\n",
    "| Ulysses  | 54866  |\n",
    "+----------+--------+\n",
    "\n",
    "Output:\n",
    "+---------+--------+\n",
    "| name    | salary |\n",
    "+---------+--------+\n",
    "| Jack    | 39332  |\n",
    "| Piper   | 149508 |\n",
    "| Mia     | 125018 |\n",
    "| Ulysses | 109732 |\n",
    "+---------+--------+\n",
    "\n",
    "Explanation:\n",
    "Every salary has been doubled."
   ]
  },
  {
   "cell_type": "code",
   "execution_count": 4,
   "metadata": {},
   "outputs": [
    {
     "name": "stdout",
     "output_type": "stream",
     "text": [
      "      name  salary\n",
      "0     Jack   19666\n",
      "1    Piper   74754\n",
      "2      Mia   62509\n",
      "3  Ulysses   54866\n"
     ]
    }
   ],
   "source": [
    "import pandas as pd \n",
    "\n",
    "data = {\n",
    "    \"name\" : [\"Jack\", \"Piper\", \"Mia\", \"Ulysses\"],\n",
    "    \"salary\" : [19666, 74754, 62509, 54866]\n",
    "}\n",
    "\n",
    "df = pd.DataFrame(data)\n",
    "\n",
    "print(df)"
   ]
  },
  {
   "cell_type": "code",
   "execution_count": 5,
   "metadata": {},
   "outputs": [],
   "source": [
    "df[\"salary\"] = df[\"salary\"] * 2"
   ]
  },
  {
   "cell_type": "code",
   "execution_count": 6,
   "metadata": {},
   "outputs": [
    {
     "name": "stdout",
     "output_type": "stream",
     "text": [
      "      name  salary\n",
      "0     Jack   39332\n",
      "1    Piper  149508\n",
      "2      Mia  125018\n",
      "3  Ulysses  109732\n"
     ]
    }
   ],
   "source": [
    "print(df)"
   ]
  },
  {
   "cell_type": "code",
   "execution_count": 7,
   "metadata": {},
   "outputs": [],
   "source": [
    "# LeetCode submission\n",
    "import pandas as pd\n",
    "from typing import List  # Import List for type hinting\n",
    "\n",
    "def modifySalaryColumn(employees: pd.DataFrame) -> pd.DataFrame:\n",
    "    employees[\"salary\"] = employees[\"salary\"] * 2\n",
    "    return employees"
   ]
  },
  {
   "cell_type": "code",
   "execution_count": 8,
   "metadata": {},
   "outputs": [
    {
     "name": "stdout",
     "output_type": "stream",
     "text": [
      "      name  salary\n",
      "0     Jack   39332\n",
      "1    Piper  149508\n",
      "2      Mia  125018\n",
      "3  Ulysses  109732\n"
     ]
    },
    {
     "ename": "",
     "evalue": "",
     "output_type": "error",
     "traceback": [
      "\u001b[1;31mThe Kernel crashed while executing code in the current cell or a previous cell. \n",
      "\u001b[1;31mPlease review the code in the cell(s) to identify a possible cause of the failure. \n",
      "\u001b[1;31mClick <a href='https://aka.ms/vscodeJupyterKernelCrash'>here</a> for more info. \n",
      "\u001b[1;31mView Jupyter <a href='command:jupyter.viewOutput'>log</a> for further details."
     ]
    }
   ],
   "source": [
    "data = {\n",
    "    \"name\" : [\"Jack\", \"Piper\", \"Mia\", \"Ulysses\"],\n",
    "    \"salary\" : [19666, 74754, 62509, 54866]\n",
    "}\n",
    "\n",
    "df = pd.DataFrame(data)\n",
    "\n",
    "result = modifySalaryColumn(df)\n",
    "print(result)"
   ]
  }
 ],
 "metadata": {
  "kernelspec": {
   "display_name": "base",
   "language": "python",
   "name": "python3"
  },
  "language_info": {
   "codemirror_mode": {
    "name": "ipython",
    "version": 3
   },
   "file_extension": ".py",
   "mimetype": "text/x-python",
   "name": "python",
   "nbconvert_exporter": "python",
   "pygments_lexer": "ipython3",
   "version": "3.11.5"
  }
 },
 "nbformat": 4,
 "nbformat_minor": 2
}
