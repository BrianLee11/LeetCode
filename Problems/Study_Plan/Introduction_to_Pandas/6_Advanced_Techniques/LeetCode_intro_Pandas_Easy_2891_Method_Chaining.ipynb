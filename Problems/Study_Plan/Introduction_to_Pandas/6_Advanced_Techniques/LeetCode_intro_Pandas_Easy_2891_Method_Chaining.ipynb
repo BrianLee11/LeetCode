{
 "cells": [
  {
   "cell_type": "markdown",
   "metadata": {},
   "source": [
    "LeetCode - Introduction to Pandas\n",
    "\n",
    "https://leetcode.com/problems/method-chaining/?envType=study-plan-v2&envId=introduction-to-pandas&lang=pythondata\n",
    "\n",
    "## 2891. Method Chaining\n",
    "\n",
    "Difficulty: Easy\n",
    "\n",
    "---\n",
    "# DataFrame `animals`\n",
    "\n",
    "| Column Name | Type   |\n",
    "|-------------|--------|\n",
    "| name        | object |\n",
    "| species     | object |\n",
    "| age         | int    |\n",
    "| weight      | int    |\n",
    "\n",
    "Write a solution to list the names of animals that weigh strictly more than **100** kilograms.\n",
    "\n",
    "Return the animals sorted by weight in **descending** order.\n",
    "\n",
    "The result format is in the following example.\n",
    "\n",
    "## Example 1\n",
    "\n",
    "**Input:**  \n",
    "DataFrame `animals`:\n",
    "\n",
    "| name     | species  | age | weight |\n",
    "|----------|----------|-----|--------|\n",
    "| Tatiana  | Snake    | 98  | 464    |\n",
    "| Khaled   | Giraffe  | 50  | 41     |\n",
    "| Alex     | Leopard  | 6   | 328    |\n",
    "| Jonathan | Monkey   | 45  | 463    |\n",
    "| Stefan   | Bear     | 100 | 50     |\n",
    "| Tommy    | Panda    | 26  | 349    |\n",
    "\n",
    "**Output:**\n",
    "\n",
    "| name     |\n",
    "|----------|\n",
    "| Tatiana  |\n",
    "| Jonathan |\n",
    "| Tommy    |\n",
    "| Alex     |\n",
    "\n",
    "**Explanation:**  \n",
    "All animals weighing more than 100 should be included in the results table.  \n",
    "Tatiana’s weight is 464, Jonathan’s weight is 463, Tommy’s weight is 349, and Alex’s weight is 328.  \n",
    "The results should be sorted in descending order of weight.\n",
    "\n",
    "\n",
    "---"
   ]
  },
  {
   "cell_type": "code",
   "execution_count": 1,
   "metadata": {},
   "outputs": [
    {
     "name": "stdout",
     "output_type": "stream",
     "text": [
      "       name  species  age  weight\n",
      "0   Tatiana    Snake   98     464\n",
      "1    Khaled  Giraffe   50      41\n",
      "2      Alex  Leopard    6     328\n",
      "3  Jonathan   Monkey   45     463\n",
      "4    Stefan     Bear  100      50\n",
      "5     Tommy    Panda   26     349\n"
     ]
    }
   ],
   "source": [
    "# solution\n",
    "import pandas as pd\n",
    "\n",
    "data = {\n",
    "    \"name\" : [\"Tatiana\", \"Khaled\", \"Alex\", \"Jonathan\", \"Stefan\", \"Tommy\"],\n",
    "    \"species\" : [\"Snake\", \"Giraffe\", \"Leopard\", \"Monkey\", \"Bear\", \"Panda\"],\n",
    "    \"age\" : [98, 50, 6, 45, 100, 26],\n",
    "    \"weight\" : [464, 41, 328, 463, 50, 349]\n",
    "}\n",
    "\n",
    "df = pd.DataFrame(data)\n",
    "\n",
    "print(df)"
   ]
  },
  {
   "cell_type": "code",
   "execution_count": 9,
   "metadata": {},
   "outputs": [
    {
     "data": {
      "text/plain": [
       "0     Tatiana\n",
       "3    Jonathan\n",
       "5       Tommy\n",
       "2        Alex\n",
       "Name: name, dtype: object"
      ]
     },
     "execution_count": 9,
     "metadata": {},
     "output_type": "execute_result"
    }
   ],
   "source": [
    "df[df['weight'] > 100].sort_values(by = 'weight', ascending = False)[\"name\"]"
   ]
  },
  {
   "cell_type": "code",
   "execution_count": 12,
   "metadata": {},
   "outputs": [],
   "source": [
    "# LeetCode submission\n",
    "import pandas as pd\n",
    "from typing import List  # Import List for type hinting\n",
    "\n",
    "def findHeavyAnimals(animals: pd.DataFrame) -> pd.DataFrame:\n",
    "    filtered_value = animals[animals['weight'] > 100].sort_values(by = 'weight', ascending = False)[\"name\"]\n",
    "    filtered_value = pd.DataFrame(filtered_value)\n",
    "    return filtered_value"
   ]
  },
  {
   "cell_type": "code",
   "execution_count": 13,
   "metadata": {},
   "outputs": [
    {
     "name": "stdout",
     "output_type": "stream",
     "text": [
      "       name\n",
      "0   Tatiana\n",
      "3  Jonathan\n",
      "5     Tommy\n",
      "2      Alex\n"
     ]
    }
   ],
   "source": [
    "# testing\n",
    "data = {\n",
    "    \"name\" : [\"Tatiana\", \"Khaled\", \"Alex\", \"Jonathan\", \"Stefan\", \"Tommy\"],\n",
    "    \"species\" : [\"Snake\", \"Giraffe\", \"Leopard\", \"Monkey\", \"Bear\", \"Panda\"],\n",
    "    \"age\" : [98, 50, 6, 45, 100, 26],\n",
    "    \"weight\" : [464, 41, 328, 463, 50, 349]\n",
    "}\n",
    "\n",
    "df = pd.DataFrame(data)\n",
    "\n",
    "filtered_result = findHeavyAnimals(df)\n",
    "print(filtered_result)"
   ]
  }
 ],
 "metadata": {
  "kernelspec": {
   "display_name": "base",
   "language": "python",
   "name": "python3"
  },
  "language_info": {
   "codemirror_mode": {
    "name": "ipython",
    "version": 3
   },
   "file_extension": ".py",
   "mimetype": "text/x-python",
   "name": "python",
   "nbconvert_exporter": "python",
   "pygments_lexer": "ipython3",
   "version": "3.11.5"
  }
 },
 "nbformat": 4,
 "nbformat_minor": 2
}
