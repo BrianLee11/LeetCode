{
 "cells": [
  {
   "cell_type": "markdown",
   "metadata": {},
   "source": [
    "LeetCode - Introduction to Pandas\n",
    "\n",
    "# 2879. Display the First Three Rows\n",
    "https://leetcode.com/problems/display-the-first-three-rows/description/?envType=study-plan-v2&envId=introduction-to-pandas&lang=pythondata\n",
    "\n",
    "**Difficulty:** Easy  \n",
    "\n",
    "## Problem Statement\n",
    "Given a `DataFrame` named **employees**, write a solution to display the **first 3 rows** of this DataFrame.\n",
    "\n",
    "### DataFrame Schema:\n",
    "| Column Name    | Type   |\n",
    "|----------------|--------|\n",
    "| `employee_id`  | int    |\n",
    "| `name`         | object |\n",
    "| `department`   | object |\n",
    "| `salary`       | int    |\n",
    "\n",
    "### Example 1:\n",
    "\n",
    "#### Input:\n",
    "**DataFrame employees**  \n",
    "| employee_id | name       | department           | salary |\n",
    "|-------------|------------|----------------------|--------|\n",
    "| 3           | Bob        | Operations           | 48675  |\n",
    "| 90          | Alice      | Sales                | 11096  |\n",
    "| 9           | Tatiana    | Engineering          | 33805  |\n",
    "| 60          | Annabelle  | InformationTechnology| 37678  |\n",
    "| 49          | Jonathan   | HumanResources       | 23793  |\n",
    "| 43          | Khaled     | Administration       | 40454  |\n",
    "\n",
    "#### Output:\n",
    "| employee_id | name    | department  | salary |\n",
    "|-------------|---------|-------------|--------|\n",
    "| 3           | Bob     | Operations  | 48675  |\n",
    "| 90          | Alice   | Sales       | 11096  |\n",
    "| 9           | Tatiana | Engineering | 33805  |\n",
    "\n",
    "#### Explanation:\n",
    "Only the **first 3 rows** are displayed.\n",
    "\n",
    "---"
   ]
  },
  {
   "cell_type": "code",
   "execution_count": 3,
   "metadata": {},
   "outputs": [],
   "source": [
    "# solution\n",
    "import pandas as pd\n",
    "from typing import List  # Import List for type hinting"
   ]
  },
  {
   "cell_type": "code",
   "execution_count": 7,
   "metadata": {},
   "outputs": [],
   "source": [
    "employee_1 = [3, \"Bob\", \"Operations\", 48675]\n",
    "employee_2 = [90, \"Alice\", \"Sales\", 11096]\n",
    "employee_3 = [9, \"Tatiana\", \"Engineering\", 33805]\n",
    "employee_4 = [60, \"Annabelle\", \"InformationTechnology\", 37678]\n",
    "employee_5 = [49, \"Jonathan\", \"HumanResources\", 23793]\n",
    "employee_6 = [43, \"Khaled\", \"Administration\", 40454]\n",
    "\n",
    "employers = [employee_1, employee_2, employee_3, employee_4, employee_5, employee_6]\n",
    "column_names = [\"employee_id\", \"name\", \"department\", \"salary\"]\n",
    "\n",
    "employer_df = pd.DataFrame(employers, columns = column_names)"
   ]
  },
  {
   "cell_type": "code",
   "execution_count": 8,
   "metadata": {},
   "outputs": [
    {
     "data": {
      "text/html": [
       "<div>\n",
       "<style scoped>\n",
       "    .dataframe tbody tr th:only-of-type {\n",
       "        vertical-align: middle;\n",
       "    }\n",
       "\n",
       "    .dataframe tbody tr th {\n",
       "        vertical-align: top;\n",
       "    }\n",
       "\n",
       "    .dataframe thead th {\n",
       "        text-align: right;\n",
       "    }\n",
       "</style>\n",
       "<table border=\"1\" class=\"dataframe\">\n",
       "  <thead>\n",
       "    <tr style=\"text-align: right;\">\n",
       "      <th></th>\n",
       "      <th>employee_id</th>\n",
       "      <th>name</th>\n",
       "      <th>department</th>\n",
       "      <th>salary</th>\n",
       "    </tr>\n",
       "  </thead>\n",
       "  <tbody>\n",
       "    <tr>\n",
       "      <th>0</th>\n",
       "      <td>3</td>\n",
       "      <td>Bob</td>\n",
       "      <td>Operations</td>\n",
       "      <td>48675</td>\n",
       "    </tr>\n",
       "    <tr>\n",
       "      <th>1</th>\n",
       "      <td>90</td>\n",
       "      <td>Alice</td>\n",
       "      <td>Sales</td>\n",
       "      <td>11096</td>\n",
       "    </tr>\n",
       "    <tr>\n",
       "      <th>2</th>\n",
       "      <td>9</td>\n",
       "      <td>Tatiana</td>\n",
       "      <td>Engineering</td>\n",
       "      <td>33805</td>\n",
       "    </tr>\n",
       "  </tbody>\n",
       "</table>\n",
       "</div>"
      ],
      "text/plain": [
       "   employee_id     name   department  salary\n",
       "0            3      Bob   Operations   48675\n",
       "1           90    Alice        Sales   11096\n",
       "2            9  Tatiana  Engineering   33805"
      ]
     },
     "execution_count": 8,
     "metadata": {},
     "output_type": "execute_result"
    }
   ],
   "source": [
    "employer_df.head(3)"
   ]
  },
  {
   "cell_type": "code",
   "execution_count": 10,
   "metadata": {},
   "outputs": [
    {
     "name": "stdout",
     "output_type": "stream",
     "text": [
      "   employee_id     name   department  salary\n",
      "0            3      Bob   Operations   48675\n",
      "1           90    Alice        Sales   11096\n",
      "2            9  Tatiana  Engineering   33805\n"
     ]
    }
   ],
   "source": [
    "# LeetCode submission\n",
    "import pandas as pd\n",
    "\n",
    "def selectFirstRows(employees: pd.DataFrame) -> pd.DataFrame:\n",
    "    return employees.head(3)"
   ]
  },
  {
   "cell_type": "code",
   "execution_count": 11,
   "metadata": {},
   "outputs": [
    {
     "name": "stdout",
     "output_type": "stream",
     "text": [
      "   employee_id     name   department  salary\n",
      "0            3      Bob   Operations   48675\n",
      "1           90    Alice        Sales   11096\n",
      "2            9  Tatiana  Engineering   33805\n"
     ]
    }
   ],
   "source": [
    "result = selectFirstRows(employer_df)\n",
    "print(result)"
   ]
  }
 ],
 "metadata": {
  "kernelspec": {
   "display_name": "base",
   "language": "python",
   "name": "python3"
  },
  "language_info": {
   "codemirror_mode": {
    "name": "ipython",
    "version": 3
   },
   "file_extension": ".py",
   "mimetype": "text/x-python",
   "name": "python",
   "nbconvert_exporter": "python",
   "pygments_lexer": "ipython3",
   "version": "3.11.5"
  }
 },
 "nbformat": 4,
 "nbformat_minor": 2
}
