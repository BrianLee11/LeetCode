{
 "cells": [
  {
   "cell_type": "markdown",
   "metadata": {},
   "source": [
    "LeetCode - Introduction to Pandas\n",
    "\n",
    "https://leetcode.com/problems/reshape-data-melt/description/?envType=study-plan-v2&envId=introduction-to-pandas&lang=pythondata\n",
    "\n",
    "## 2890. Reshape data: melt\n",
    "\n",
    "Difficulty: Easy\n",
    "\n",
    "DataFrame `report`\n",
    "\n",
    "| Column Name | Type   |\n",
    "|-------------|--------|\n",
    "| product     | object |\n",
    "| quarter_1   | int    |\n",
    "| quarter_2   | int    |\n",
    "| quarter_3   | int    |\n",
    "| quarter_4   | int    |\n",
    "\n",
    "Write a solution to reshape the data so that each row represents sales data for a product in a specific quarter. The result format is in the following example.\n",
    "\n",
    "## Example 1\n",
    "\n",
    "**Input:**\n",
    "\n",
    "| product     | quarter_1 | quarter_2 | quarter_3 | quarter_4 |\n",
    "|-------------|-----------|-----------|-----------|-----------|\n",
    "| Umbrella    | 417       | 224       | 379       | 611       |\n",
    "| SleepingBag | 800       | 936       | 93        | 875       |\n",
    "\n",
    "**Output:**\n",
    "\n",
    "| product     | quarter    | sales |\n",
    "|-------------|-----------|-------|\n",
    "| Umbrella    | quarter_1 | 417   |\n",
    "| SleepingBag | quarter_1 | 800   |\n",
    "| Umbrella    | quarter_2 | 224   |\n",
    "| SleepingBag | quarter_2 | 936   |\n",
    "| Umbrella    | quarter_3 | 379   |\n",
    "| SleepingBag | quarter_3 | 93    |\n",
    "| Umbrella    | quarter_4 | 611   |\n",
    "| SleepingBag | quarter_4 | 875   |\n",
    "\n",
    "**Explanation:**\n",
    "\n",
    "The DataFrame is reshaped from wide to long format. Each row represents the sales of a product in a quarter.\n",
    "\n",
    "\n",
    "---"
   ]
  },
  {
   "cell_type": "code",
   "execution_count": 5,
   "metadata": {},
   "outputs": [
    {
     "name": "stdout",
     "output_type": "stream",
     "text": [
      "       product    quarter  sales\n",
      "0     Umbrella  quarter_1    417\n",
      "1  SleepingBag  quarter_1    800\n",
      "2     Umbrella  quarter_2    224\n",
      "3  SleepingBag  quarter_2    936\n",
      "4     Umbrella  quarter_3    379\n",
      "5  SleepingBag  quarter_3     93\n",
      "6     Umbrella  quarter_4    611\n",
      "7  SleepingBag  quarter_4    875\n"
     ]
    }
   ],
   "source": [
    "# solution\n",
    "import pandas as pd\n",
    "\n",
    "data = {\n",
    "    'product' : [\"Umbrella\", \"SleepingBag\"],\n",
    "    'quarter_1' : [417, 800],\n",
    "    'quarter_2' : [224, 936],\n",
    "    'quarter_3' : [379, 93],\n",
    "    'quarter_4' : [611, 875]\n",
    "}\n",
    "\n",
    "df = pd.DataFrame(data)\n",
    "\n",
    "# Use pd.melt() to go from wide to long format\n",
    "df_long = df.melt(\n",
    "    id_vars=\"product\",       # The column(s) that should remain in the rows\n",
    "    var_name=\"quarter\",      # Name for the new \"quarter\" column\n",
    "    value_name=\"sales\"      # Name for the new \"sales\" column\n",
    ")\n",
    "\n",
    "print(df_long)"
   ]
  },
  {
   "cell_type": "code",
   "execution_count": 8,
   "metadata": {},
   "outputs": [],
   "source": [
    "# LeetCode submission\n",
    "import pandas as pd\n",
    "from typing import List  # Import List for type hinting\n",
    "\n",
    "import pandas as pd\n",
    "\n",
    "def meltTable(report: pd.DataFrame) -> pd.DataFrame:\n",
    "    report_reshape = report.melt(\n",
    "        id_vars = \"product\",\n",
    "        var_name = \"quarter\",\n",
    "        value_name = \"sales\"\n",
    "    )\n",
    "\n",
    "    return report_reshape"
   ]
  },
  {
   "cell_type": "code",
   "execution_count": 9,
   "metadata": {},
   "outputs": [
    {
     "name": "stdout",
     "output_type": "stream",
     "text": [
      "       product    quarter  sales\n",
      "0     Umbrella  quarter_1    417\n",
      "1  SleepingBag  quarter_1    800\n",
      "2     Umbrella  quarter_2    224\n",
      "3  SleepingBag  quarter_2    936\n",
      "4     Umbrella  quarter_3    379\n",
      "5  SleepingBag  quarter_3     93\n",
      "6     Umbrella  quarter_4    611\n",
      "7  SleepingBag  quarter_4    875\n"
     ]
    }
   ],
   "source": [
    "# testing\n",
    "data = {\n",
    "    'product' : [\"Umbrella\", \"SleepingBag\"],\n",
    "    'quarter_1' : [417, 800],\n",
    "    'quarter_2' : [224, 936],\n",
    "    'quarter_3' : [379, 93],\n",
    "    'quarter_4' : [611, 875]\n",
    "}\n",
    "\n",
    "df = pd.DataFrame(data)\n",
    "\n",
    "report_reshape = meltTable(df)\n",
    "print(report_reshape)"
   ]
  }
 ],
 "metadata": {
  "kernelspec": {
   "display_name": "base",
   "language": "python",
   "name": "python3"
  },
  "language_info": {
   "codemirror_mode": {
    "name": "ipython",
    "version": 3
   },
   "file_extension": ".py",
   "mimetype": "text/x-python",
   "name": "python",
   "nbconvert_exporter": "python",
   "pygments_lexer": "ipython3",
   "version": "3.11.5"
  }
 },
 "nbformat": 4,
 "nbformat_minor": 2
}
