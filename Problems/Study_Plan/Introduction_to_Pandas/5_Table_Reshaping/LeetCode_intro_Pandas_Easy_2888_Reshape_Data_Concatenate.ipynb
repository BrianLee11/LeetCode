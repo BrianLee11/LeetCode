{
 "cells": [
  {
   "cell_type": "markdown",
   "metadata": {},
   "source": [
    "LeetCode - Introduction to Pandas\n",
    "\n",
    "https://leetcode.com/problems/reshape-data-concatenate/description/?envType=study-plan-v2&envId=introduction-to-pandas&lang=pythondata\n",
    "\n",
    "## 2888. Resahpe Data: Concatenate\n",
    "\n",
    "Difficulty: Easy\n",
    "\n",
    "---\n",
    "\n",
    "DataFrame `df1`\n",
    "\n",
    "| Column Name | Type   |\n",
    "|-------------|--------|\n",
    "| student_id  | int    |\n",
    "| name        | object |\n",
    "| age         | int    |\n",
    "\n",
    "---\n",
    "\n",
    "DataFrame `df2`\n",
    "\n",
    "| Column Name | Type   |\n",
    "|-------------|--------|\n",
    "| student_id  | int    |\n",
    "| name        | object |\n",
    "| age         | int    |\n",
    "\n",
    "Write a solution to concatenate these two DataFrames **vertically** into one DataFrame.  \n",
    "The result format is shown in the following example:\n",
    "\n",
    "---\n",
    "\n",
    "### Example 1\n",
    "\n",
    "Input:\n",
    "**df1**\n",
    "| student_id | name    | age |\n",
    "|------------|---------|-----|\n",
    "| 1          | Mason   | 8   |\n",
    "| 2          | Ava     | 6   |\n",
    "| 3          | Taylor  | 15  |\n",
    "| 4          | Georgia | 17  |\n",
    "\n",
    "**df2**\n",
    "| student_id | name | age |\n",
    "|------------|------|-----|\n",
    "| 5          | Leo  | 7   |\n",
    "| 6          | Alex | 7   |\n",
    "\n",
    "Output:\n",
    "| student_id | name    | age |\n",
    "|------------|---------|-----|\n",
    "| 1          | Mason   | 8   |\n",
    "| 2          | Ava     | 6   |\n",
    "| 3          | Taylor  | 15  |\n",
    "| 4          | Georgia | 17  |\n",
    "| 5          | Leo     | 7   |\n",
    "| 6          | Alex    | 7   |\n",
    "\n",
    "**Explanation:**  \n",
    "The two DataFrames are stacked vertically, and their rows are combined.\n",
    "\n",
    "---"
   ]
  },
  {
   "cell_type": "code",
   "execution_count": 1,
   "metadata": {},
   "outputs": [
    {
     "name": "stdout",
     "output_type": "stream",
     "text": [
      "   student_id     name  age\n",
      "0           1    Mason    8\n",
      "1           2      Ava    6\n",
      "2           3   Taylor   15\n",
      "3           4  Georgia   17\n",
      "   student_id  name  age\n",
      "0           5   Leo    7\n",
      "1           6  Alex    7\n"
     ]
    }
   ],
   "source": [
    "# solution\n",
    "import pandas as pd\n",
    "\n",
    "data_1 = {\n",
    "    'student_id' : [1,2,3,4],\n",
    "    'name' : [\"Mason\", \"Ava\", \"Taylor\", \"Georgia\"],\n",
    "    'age' : [8, 6, 15, 17]\n",
    "}\n",
    "\n",
    "data_2 = {\n",
    "    'student_id' : [5,6],\n",
    "    'name' : [\"Leo\",\"Alex\"],\n",
    "    'age' : [7,7]\n",
    "}\n",
    "\n",
    "df_1 = pd.DataFrame(data_1)\n",
    "df_2 = pd.DataFrame(data_2)\n",
    "\n",
    "print(df_1)\n",
    "print(df_2)"
   ]
  },
  {
   "cell_type": "code",
   "execution_count": 4,
   "metadata": {},
   "outputs": [
    {
     "name": "stdout",
     "output_type": "stream",
     "text": [
      "   student_id     name  age\n",
      "0           1    Mason    8\n",
      "1           2      Ava    6\n",
      "2           3   Taylor   15\n",
      "3           4  Georgia   17\n",
      "0           5      Leo    7\n",
      "1           6     Alex    7\n"
     ]
    }
   ],
   "source": [
    "df_3 = pd.concat([df_1, df_2], axis = 0) # Concatenate rows\n",
    "\n",
    "# concatenate columns:\n",
    "# df_3 = pd.concat([df_1, df_2], axis = 1)\n",
    "\n",
    "print(df_3)"
   ]
  },
  {
   "cell_type": "code",
   "execution_count": 8,
   "metadata": {},
   "outputs": [],
   "source": [
    "# LeetCode submission\n",
    "import pandas as pd\n",
    "\n",
    "def concatenateTables(df1: pd.DataFrame, df2: pd.DataFrame) -> pd.DataFrame:\n",
    "    # Concatenates df2 below df1 (row-wise)\n",
    "    concatenatedDf = pd.concat([df1, df2], axis = 0)\n",
    "    return concatenatedDf"
   ]
  },
  {
   "cell_type": "code",
   "execution_count": 10,
   "metadata": {},
   "outputs": [
    {
     "name": "stdout",
     "output_type": "stream",
     "text": [
      "   student_id     name  age\n",
      "0           1    Mason    8\n",
      "1           2      Ava    6\n",
      "2           3   Taylor   15\n",
      "3           4  Georgia   17\n",
      "0           5      Leo    7\n",
      "1           6     Alex    7\n"
     ]
    }
   ],
   "source": [
    "# testing\n",
    "data_1 = {\n",
    "    'student_id' : [1,2,3,4],\n",
    "    'name' : [\"Mason\", \"Ava\", \"Taylor\", \"Georgia\"],\n",
    "    'age' : [8, 6, 15, 17]\n",
    "}\n",
    "\n",
    "data_2 = {\n",
    "    'student_id' : [5,6],\n",
    "    'name' : [\"Leo\",\"Alex\"],\n",
    "    'age' : [7,7]\n",
    "}\n",
    "\n",
    "df_1 = pd.DataFrame(data_1)\n",
    "df_2 = pd.DataFrame(data_2)\n",
    "\n",
    "concatenate_df = concatenateTables(df_1, df_2)\n",
    "print(concatenate_df)"
   ]
  }
 ],
 "metadata": {
  "kernelspec": {
   "display_name": "base",
   "language": "python",
   "name": "python3"
  },
  "language_info": {
   "codemirror_mode": {
    "name": "ipython",
    "version": 3
   },
   "file_extension": ".py",
   "mimetype": "text/x-python",
   "name": "python",
   "nbconvert_exporter": "python",
   "pygments_lexer": "ipython3",
   "version": "3.11.5"
  }
 },
 "nbformat": 4,
 "nbformat_minor": 2
}
