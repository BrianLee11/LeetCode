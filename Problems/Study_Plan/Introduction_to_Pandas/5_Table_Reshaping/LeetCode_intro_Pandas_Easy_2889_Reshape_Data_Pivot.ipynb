{
 "cells": [
  {
   "cell_type": "markdown",
   "metadata": {},
   "source": [
    "LeetCode - Introduction to Pandas\n",
    "\n",
    "https://leetcode.com/problems/reshape-data-pivot/description/?envType=study-plan-v2&envId=introduction-to-pandas&lang=pythondata\n",
    "\n",
    "## 2889. Reshape Data: Pivot\n",
    "\n",
    "Difficulty: Easy\n",
    "\n",
    "---\n",
    "\n",
    "DataFrame `weather`\n",
    "\n",
    "| Column Name | Type   |\n",
    "|-------------|--------|\n",
    "| city        | object |\n",
    "| month       | object |\n",
    "| temperature | int    |\n",
    "\n",
    "Write a solution to pivot the data so that each row represents temperatures for a specific month, and each city is a separate column.\n",
    "\n",
    "The result format is in the following example.\n",
    "\n",
    "Example 1\n",
    "\n",
    "**Input:**\n",
    "\n",
    "| city         | month     | temperature |\n",
    "|--------------|-----------|-------------|\n",
    "| Jacksonville | January   | 13          |\n",
    "| Jacksonville | February  | 23          |\n",
    "| Jacksonville | March     | 38          |\n",
    "| Jacksonville | April     | 5           |\n",
    "| Jacksonville | May       | 34          |\n",
    "| ElPaso       | January   | 20          |\n",
    "| ElPaso       | February  | 6           |\n",
    "| ElPaso       | March     | 26          |\n",
    "| ElPaso       | April     | 2           |\n",
    "| ElPaso       | May       | 43          |\n",
    "\n",
    "**Output:**\n",
    "\n",
    "| month    | ElPaso | Jacksonville |\n",
    "|----------|--------|--------------|\n",
    "| April    | 2      | 5            |\n",
    "| February | 6      | 23           |\n",
    "| January  | 20     | 13           |\n",
    "| March    | 26     | 38           |\n",
    "| May      | 43     | 34           |\n",
    "\n",
    "**Explanation:**\n",
    "The table is pivoted, each column represents a city, and each row represents a specific month.\n",
    "\n",
    "---"
   ]
  },
  {
   "cell_type": "code",
   "execution_count": 6,
   "metadata": {},
   "outputs": [
    {
     "name": "stdout",
     "output_type": "stream",
     "text": [
      "           city     month  temperature\n",
      "0  Jacksonville   January           13\n",
      "1  Jacksonville  February           23\n",
      "2  Jacksonville     March           38\n",
      "3  Jacksonville     April            5\n",
      "4  Jacksonville       May           34\n",
      "5        ElPaso   January           20\n",
      "6        ElPaso  February            6\n",
      "7        ElPaso     March           26\n",
      "8        ElPaso     April            2\n",
      "9        ElPaso       May           43\n"
     ]
    }
   ],
   "source": [
    "# solution\n",
    "import pandas as pd\n",
    "\n",
    "data = {\n",
    "    \"city\" : [\"Jacksonville\",\"Jacksonville\", \"Jacksonville\", \"Jacksonville\", \"Jacksonville\", \n",
    "              \"ElPaso\", \"ElPaso\", \"ElPaso\", \"ElPaso\",\"ElPaso\"],\n",
    "    \"month\" : [\"January\", \"February\", \"March\", \"April\", \"May\",\n",
    "               \"January\", \"February\", \"March\", \"April\", \"May\"],\n",
    "    \"temperature\" : [13, 23, 38, 5, 34, \n",
    "                     20, 6, 26, 2, 43]                   \n",
    "}\n",
    "\n",
    "df = pd.DataFrame(data)\n",
    "print(df)"
   ]
  },
  {
   "cell_type": "code",
   "execution_count": 12,
   "metadata": {},
   "outputs": [
    {
     "name": "stdout",
     "output_type": "stream",
     "text": [
      "city      ElPaso  Jacksonville\n",
      "month                         \n",
      "April          2             5\n",
      "February       6            23\n",
      "January       20            13\n",
      "March         26            38\n",
      "May           43            34\n"
     ]
    }
   ],
   "source": [
    "# Pivot so that each city becomes a column\n",
    "pivoted_df = df.pivot(index=\"month\", columns=\"city\", values=\"temperature\")\n",
    "print(pivoted_df)"
   ]
  },
  {
   "cell_type": "code",
   "execution_count": 15,
   "metadata": {},
   "outputs": [],
   "source": [
    "# LeetCode submission\n",
    "import pandas as pd\n",
    "from typing import List  # Import List for type hinting\n",
    "\n",
    "def pivotTable(weather: pd.DataFrame) -> pd.DataFrame:\n",
    "    weather = weather.pivot(index = \"month\", columns = \"city\", values = \"temperature\")\n",
    "    return weather"
   ]
  },
  {
   "cell_type": "code",
   "execution_count": 17,
   "metadata": {},
   "outputs": [
    {
     "name": "stdout",
     "output_type": "stream",
     "text": [
      "city      ElPaso  Jacksonville\n",
      "month                         \n",
      "April          2             5\n",
      "February       6            23\n",
      "January       20            13\n",
      "March         26            38\n",
      "May           43            34\n"
     ]
    }
   ],
   "source": [
    "# testing\n",
    "data = {\n",
    "    \"city\" : [\"Jacksonville\",\"Jacksonville\", \"Jacksonville\", \"Jacksonville\", \"Jacksonville\", \n",
    "              \"ElPaso\", \"ElPaso\", \"ElPaso\", \"ElPaso\",\"ElPaso\"],\n",
    "    \"month\" : [\"January\", \"February\", \"March\", \"April\", \"May\",\n",
    "               \"January\", \"February\", \"March\", \"April\", \"May\"],\n",
    "    \"temperature\" : [13, 23, 38, 5, 34, \n",
    "                     20, 6, 26, 2, 43]                   \n",
    "}\n",
    "df = pd.DataFrame(data)\n",
    "\n",
    "result = pivotTable(df)\n",
    "print(result)\n"
   ]
  }
 ],
 "metadata": {
  "kernelspec": {
   "display_name": "base",
   "language": "python",
   "name": "python3"
  },
  "language_info": {
   "codemirror_mode": {
    "name": "ipython",
    "version": 3
   },
   "file_extension": ".py",
   "mimetype": "text/x-python",
   "name": "python",
   "nbconvert_exporter": "python",
   "pygments_lexer": "ipython3",
   "version": "3.11.5"
  }
 },
 "nbformat": 4,
 "nbformat_minor": 2
}
