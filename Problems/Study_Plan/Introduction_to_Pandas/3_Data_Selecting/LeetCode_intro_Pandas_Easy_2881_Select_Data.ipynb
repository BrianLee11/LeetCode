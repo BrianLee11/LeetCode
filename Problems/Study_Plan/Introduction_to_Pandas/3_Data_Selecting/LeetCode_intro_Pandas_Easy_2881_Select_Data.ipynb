{
 "cells": [
  {
   "cell_type": "markdown",
   "metadata": {},
   "source": [
    "LeetCode - Introduction to Pandas\n",
    "\n",
    "https://leetcode.com/problems/create-a-new-column/description/?envType=study-plan-v2&envId=introduction-to-pandas&lang=pythondata\n",
    "\n",
    "# 2881. Create a New Column\n",
    "\n",
    "**Difficulty:** Easy  \n",
    "\n",
    "---\n",
    "\n",
    "DataFrame `employees`\n",
    "| Column Name | Type   |\n",
    "|-------------|--------|\n",
    "| `name`      | object |\n",
    "| `salary`    | int    |\n",
    "\n",
    "A company plans to provide its employees with a bonus.\n",
    "\n",
    "Write a solution to create a new column named **bonus** that contains the **doubled values** of the `salary` column.\n",
    "\n",
    "The result format is shown in the following example.\n",
    "\n",
    "\n",
    "\n",
    "\n",
    "---\n",
    "\n",
    "### Example 1:\n",
    "\n",
    "#### Input:\n",
    "**DataFrame employees**  \n",
    "| name      | salary  |\n",
    "|-----------|---------|\n",
    "| Piper     | 4548    |\n",
    "| Grace     | 28150   |\n",
    "| Georgia   | 1103    |\n",
    "| Willow    | 6593    |\n",
    "| Finn      | 74576   |\n",
    "| Thomas    | 24433   |\n",
    "\n",
    "#### Output:\n",
    "| name      | salary  | bonus   |\n",
    "|-----------|---------|---------|\n",
    "| Piper     | 4548    | 9096    |\n",
    "| Grace     | 28150   | 56300   |\n",
    "| Georgia   | 1103    | 2206    |\n",
    "| Willow    | 6593    | 13186   |\n",
    "| Finn      | 74576   | 149152  |\n",
    "| Thomas    | 24433   | 48866   |\n",
    "\n",
    "---\n",
    "\n",
    "### Explanation:\n",
    "A new column **bonus** is created by **doubling the value** in the `salary` column.\n",
    "\n",
    "---"
   ]
  },
  {
   "cell_type": "code",
   "execution_count": 5,
   "metadata": {},
   "outputs": [],
   "source": [
    "# solution\n",
    "import pandas as pd\n",
    "\n",
    "employee_1 = [\"Piper\", 4548]\n",
    "employee_2 = [\"Grace\", 28150]\n",
    "employee_3 = [\"Georgia\", 1103]\n",
    "employee_4 = [\"Willow\", 6593]\n",
    "employee_5 = [\"Finn\", 74576]\n",
    "employee_6 = [\"Thomas\", 24433]\n",
    "\n",
    "employer = [employee_1, employee_2, employee_3, employee_4, employee_5, employee_6]\n",
    "\n",
    "column_names = [\"name\", \"salary\"]\n",
    "\n",
    "employer_df = pd.DataFrame(employer, columns = column_names)"
   ]
  },
  {
   "cell_type": "code",
   "execution_count": 6,
   "metadata": {},
   "outputs": [],
   "source": [
    "employer_df[\"bonus\"] = employer_df[\"salary\"] * 2"
   ]
  },
  {
   "cell_type": "code",
   "execution_count": 7,
   "metadata": {},
   "outputs": [
    {
     "name": "stdout",
     "output_type": "stream",
     "text": [
      "      name  salary   bonus\n",
      "0    Piper    4548    9096\n",
      "1    Grace   28150   56300\n",
      "2  Georgia    1103    2206\n",
      "3   Willow    6593   13186\n",
      "4     Finn   74576  149152\n",
      "5   Thomas   24433   48866\n"
     ]
    }
   ],
   "source": [
    "print(employer_df)"
   ]
  },
  {
   "cell_type": "code",
   "execution_count": 8,
   "metadata": {},
   "outputs": [],
   "source": [
    "# LeetCode submission\n",
    "import pandas as pd\n",
    "from typing import List  # Import List for type hinting\n",
    "\n",
    "def createBonusColumn(employees: pd.DataFrame) -> pd.DataFrame:\n",
    "    employees[\"bonus\"] = employees[\"salary\"] * 2\n",
    "    return employees   "
   ]
  },
  {
   "cell_type": "code",
   "execution_count": 9,
   "metadata": {},
   "outputs": [],
   "source": [
    "# testing\n",
    "employee_1 = [\"Piper\", 4548]\n",
    "employee_2 = [\"Grace\", 28150]\n",
    "employee_3 = [\"Georgia\", 1103]\n",
    "employee_4 = [\"Willow\", 6593]\n",
    "employee_5 = [\"Finn\", 74576]\n",
    "employee_6 = [\"Thomas\", 24433]\n",
    "\n",
    "employer = [employee_1, employee_2, employee_3, employee_4, employee_5, employee_6]\n",
    "\n",
    "column_names = [\"name\", \"salary\"]\n",
    "\n",
    "employer_df = pd.DataFrame(employer, columns = column_names)"
   ]
  },
  {
   "cell_type": "code",
   "execution_count": 11,
   "metadata": {},
   "outputs": [
    {
     "name": "stdout",
     "output_type": "stream",
     "text": [
      "      name  salary   bonus\n",
      "0    Piper    4548    9096\n",
      "1    Grace   28150   56300\n",
      "2  Georgia    1103    2206\n",
      "3   Willow    6593   13186\n",
      "4     Finn   74576  149152\n",
      "5   Thomas   24433   48866\n"
     ]
    }
   ],
   "source": [
    "result = createBonusColumn(employer_df)\n",
    "print(result)"
   ]
  }
 ],
 "metadata": {
  "kernelspec": {
   "display_name": "base",
   "language": "python",
   "name": "python3"
  },
  "language_info": {
   "codemirror_mode": {
    "name": "ipython",
    "version": 3
   },
   "file_extension": ".py",
   "mimetype": "text/x-python",
   "name": "python",
   "nbconvert_exporter": "python",
   "pygments_lexer": "ipython3",
   "version": "3.11.5"
  }
 },
 "nbformat": 4,
 "nbformat_minor": 2
}
