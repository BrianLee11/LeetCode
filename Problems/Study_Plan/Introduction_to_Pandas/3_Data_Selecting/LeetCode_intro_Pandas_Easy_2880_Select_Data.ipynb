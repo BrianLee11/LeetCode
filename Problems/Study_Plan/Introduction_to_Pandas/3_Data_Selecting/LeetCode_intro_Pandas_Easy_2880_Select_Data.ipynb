{
 "cells": [
  {
   "cell_type": "markdown",
   "metadata": {},
   "source": [
    "LeetCode - Introduction to Pandas\n",
    "\n",
    "https://leetcode.com/problems/select-data/description/?envType=study-plan-v2&envId=introduction-to-pandas&lang=pythondata\n",
    "\n",
    "# 2880. Select Data\n",
    "\n",
    "Difficulty: Easy\n",
    "\n",
    "Problem Statement: Given a `DataFrame` named **students**, write a solution to select the **name** and **age** of the student with `student_id = 101`.\n",
    "\n",
    "### DataFrame Schema:\n",
    "| Column Name  | Type   |\n",
    "|--------------|--------|\n",
    "| `student_id` | int    |\n",
    "| `name`       | object |\n",
    "| `age`        | int    |\n",
    "\n",
    "The result format should follow the example below.\n",
    "\n",
    "---\n",
    "\n",
    "### Example 1:\n",
    "\n",
    "#### Input:\n",
    "**DataFrame students**  \n",
    "| student_id | name    | age |\n",
    "|------------|---------|-----|\n",
    "| 101        | Ulysses | 13  |\n",
    "| 53         | William | 10  |\n",
    "| 128        | Henry   | 6   |\n",
    "| 3          | Henry   | 11  |\n",
    "\n",
    "#### Output:\n",
    "| name    | age |\n",
    "|---------|-----|\n",
    "| Ulysses | 13  |\n",
    "\n",
    "---\n",
    "\n",
    "### Explanation:\n",
    "Student **Ulysses** has `student_id = 101`. Therefore, we select the corresponding **name** and **age**.\n",
    "\n",
    "---\n"
   ]
  },
  {
   "cell_type": "code",
   "execution_count": 8,
   "metadata": {},
   "outputs": [
    {
     "name": "stdout",
     "output_type": "stream",
     "text": [
      "   student_id     name  age\n",
      "0         101  Ulysses   13\n",
      "1          53  William   10\n",
      "2         128    Henry    6\n",
      "3           3    Henry   11\n"
     ]
    }
   ],
   "source": [
    "# Solution\n",
    "import pandas as pd\n",
    "\n",
    "# Define student data\n",
    "student_1 = [101, \"Ulysses\", 13]\n",
    "student_2 = [53, \"William\", 10]\n",
    "student_3 = [128, \"Henry\", 6]\n",
    "student_4 = [3, \"Henry\", 11]\n",
    "\n",
    "# Define column names\n",
    "column_names = [\"student_id\",\"name\", \"age\"]\n",
    "\n",
    "# Create a DataFrame\n",
    "students = [student_1, student_2, student_3, student_4]\n",
    "students_df = pd.DataFrame(students, columns=column_names)\n",
    "\n",
    "# Display the DataFrame\n",
    "print(students_df)"
   ]
  },
  {
   "cell_type": "code",
   "execution_count": 12,
   "metadata": {},
   "outputs": [
    {
     "name": "stdout",
     "output_type": "stream",
     "text": [
      "      name  age\n",
      "0  Ulysses   13\n"
     ]
    }
   ],
   "source": [
    "df_filtered = students_df[students_df['student_id'] == 101][[\"name\", \"age\"]]\n",
    "print(df_filtered)"
   ]
  },
  {
   "cell_type": "code",
   "execution_count": 13,
   "metadata": {},
   "outputs": [],
   "source": [
    "# LeetCode submission\n",
    "import pandas as pd\n",
    "\n",
    "def selectData(students: pd.DataFrame) -> pd.DataFrame:\n",
    "    df_filtered = students[students['student_id'] == 101][[\"name\", \"age\"]]\n",
    "    return df_filtered"
   ]
  },
  {
   "cell_type": "code",
   "execution_count": 14,
   "metadata": {},
   "outputs": [
    {
     "name": "stdout",
     "output_type": "stream",
     "text": [
      "      name  age\n",
      "0  Ulysses   13\n"
     ]
    },
    {
     "ename": "",
     "evalue": "",
     "output_type": "error",
     "traceback": [
      "\u001b[1;31mThe Kernel crashed while executing code in the current cell or a previous cell. \n",
      "\u001b[1;31mPlease review the code in the cell(s) to identify a possible cause of the failure. \n",
      "\u001b[1;31mClick <a href='https://aka.ms/vscodeJupyterKernelCrash'>here</a> for more info. \n",
      "\u001b[1;31mView Jupyter <a href='command:jupyter.viewOutput'>log</a> for further details."
     ]
    }
   ],
   "source": [
    "result = selectData(students_df)\n",
    "print(result)"
   ]
  }
 ],
 "metadata": {
  "kernelspec": {
   "display_name": "base",
   "language": "python",
   "name": "python3"
  },
  "language_info": {
   "codemirror_mode": {
    "name": "ipython",
    "version": 3
   },
   "file_extension": ".py",
   "mimetype": "text/x-python",
   "name": "python",
   "nbconvert_exporter": "python",
   "pygments_lexer": "ipython3",
   "version": "3.11.5"
  }
 },
 "nbformat": 4,
 "nbformat_minor": 2
}
