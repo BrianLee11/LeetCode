{
 "cells": [
  {
   "cell_type": "markdown",
   "metadata": {},
   "source": [
    "LeetCode Intro to Pandas\n",
    "\n",
    "https://leetcode.com/problems/create-a-dataframe-from-list/description/?envType=study-plan-v2&envId=introduction-to-pandas&lang=pythondata\n",
    "\n",
    "# 2877. Create a DataFrame from List\n",
    "\n",
    "Difficulty: Easy. "
   ]
  },
  {
   "cell_type": "code",
   "execution_count": 1,
   "metadata": {},
   "outputs": [
    {
     "name": "stdout",
     "output_type": "stream",
     "text": [
      "   0   1\n",
      "0  1  15\n",
      "1  2  11\n",
      "2  3  11\n",
      "3  4  20\n",
      "   student_id  age\n",
      "0           1   15\n",
      "1           2   11\n",
      "2           3   11\n",
      "3           4   20\n"
     ]
    }
   ],
   "source": [
    "# Define a list of student data where each inner list contains [student_id, age]\n",
    "student_data = [\n",
    "    [1, 15],  # First student's data: student_id=1, age=15\n",
    "    [2, 11],  # Second student's data: student_id=2, age=11\n",
    "    [3, 11],  # Third student's data: student_id=3, age=11\n",
    "    [4, 20]   # Fourth student's data: student_id=4, age=20\n",
    "]\n",
    "\n",
    "# Import the pandas library for creating and manipulating dataframes\n",
    "import pandas as pd\n",
    "\n",
    "# Create a DataFrame from the student_data list\n",
    "student_df = pd.DataFrame(student_data)\n",
    "\n",
    "# Print the DataFrame to view its default structure (columns are auto-numbered)\n",
    "print(student_df)\n",
    "\n",
    "# Define the column names for the DataFrame\n",
    "student_columns = [\"student_id\", \"age\"]  # Assign meaningful names to columns\n",
    "\n",
    "# Create a DataFrame with student_data and the defined column names\n",
    "student_df = pd.DataFrame(student_data, columns = student_columns)\n",
    "\n",
    "# Print the updated DataFrame to verify the column names are applied\n",
    "print(student_df)"
   ]
  },
  {
   "cell_type": "code",
   "execution_count": 2,
   "metadata": {},
   "outputs": [],
   "source": [
    "# LeetCode submission\n",
    "import pandas as pd\n",
    "from typing import List  # Import List for type hinting\n",
    "\n",
    "def createDataFrame(student_data: List[List[int]]) -> pd.DataFrame:\n",
    "    # Define the column names for the DataFrame\n",
    "    student_columns = [\"student_id\", \"age\"]\n",
    "\n",
    "    # Create a DataFrame with student_data and the defined column names\n",
    "    student_df = pd.DataFrame(student_data, columns=student_columns)\n",
    "\n",
    "    return student_df"
   ]
  },
  {
   "cell_type": "code",
   "execution_count": 3,
   "metadata": {},
   "outputs": [
    {
     "name": "stdout",
     "output_type": "stream",
     "text": [
      "   student_id  age\n",
      "0           1   15\n",
      "1           2   11\n",
      "2           3   11\n",
      "3           4   20\n"
     ]
    },
    {
     "ename": "",
     "evalue": "",
     "output_type": "error",
     "traceback": [
      "\u001b[1;31mThe Kernel crashed while executing code in the current cell or a previous cell. \n",
      "\u001b[1;31mPlease review the code in the cell(s) to identify a possible cause of the failure. \n",
      "\u001b[1;31mClick <a href='https://aka.ms/vscodeJupyterKernelCrash'>here</a> for more info. \n",
      "\u001b[1;31mView Jupyter <a href='command:jupyter.viewOutput'>log</a> for further details."
     ]
    }
   ],
   "source": [
    "# test \n",
    "student_data = [\n",
    "  [1, 15],\n",
    "  [2, 11],\n",
    "  [3, 11],\n",
    "  [4, 20]\n",
    "]\n",
    "\n",
    "result = createDataFrame(student_data)\n",
    "print(result)"
   ]
  }
 ],
 "metadata": {
  "kernelspec": {
   "display_name": "base",
   "language": "python",
   "name": "python3"
  },
  "language_info": {
   "codemirror_mode": {
    "name": "ipython",
    "version": 3
   },
   "file_extension": ".py",
   "mimetype": "text/x-python",
   "name": "python",
   "nbconvert_exporter": "python",
   "pygments_lexer": "ipython3",
   "version": "3.11.5"
  }
 },
 "nbformat": 4,
 "nbformat_minor": 2
}
