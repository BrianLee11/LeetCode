{
 "cells": [
  {
   "cell_type": "markdown",
   "metadata": {},
   "source": [
    "# LeetCode Intro to Pandas\n",
    "\n",
    "Easy. 2877. Create a DataFrame from List\n",
    "\n",
    "## Problem Statement\n",
    "Given a DataFrame `players`, write a solution to calculate and display the **number of rows and columns** of `players`.\n",
    "\n",
    "Return the result as an array:\n",
    "\n",
    "The result format is illustrated in the following example.\n",
    "\n",
    "---\n",
    "\n",
    "## Example 1:\n",
    "\n",
    "### Input:\n",
    "| player_id | name      | age | position     | team               |\n",
    "|-----------|-----------|-----|--------------|--------------------|\n",
    "| 846       | Mason     | 21  | Forward      | RealMadrid         |\n",
    "| 749       | Riley     | 30  | Winger       | Barcelona          |\n",
    "| 155       | Bob       | 28  | Striker      | ManchesterUnited   |\n",
    "| 583       | Isabella  | 32  | Goalkeeper   | Liverpool          |\n",
    "| 388       | Zachary   | 24  | Midfielder   | BayernMunich       |\n",
    "| 883       | Ava       | 23  | Defender     | Chelsea            |\n",
    "| 355       | Violet    | 18  | Striker      | Juventus           |\n",
    "| 247       | Thomas    | 27  | Striker      | ParisSaint-Germain |\n",
    "| 761       | Jack      | 33  | Midfielder   | ManchesterCity     |\n",
    "| 642       | Charlie   | 36  | Center-back  | Arsenal            |\n",
    "\n",
    "### Output: [10, 5]\n",
    "\n",
    "### Explanation:\n",
    "This DataFrame contains **10 rows** and **5 columns**.\n",
    "\n",
    "---"
   ]
  },
  {
   "cell_type": "code",
   "execution_count": 1,
   "metadata": {},
   "outputs": [
    {
     "name": "stdout",
     "output_type": "stream",
     "text": [
      "[['Aj334', 'John', 34, 'Attacker'], ['d33jid', 'Anne', 22, 'Mid Fielder'], ['hewNet973', 'Youni', 19, 'Defender'], ['asSoonRau', 'Hewlett', 47, 'Goalie'], ['daum', 'Francis', 39, 'Mid Fielder']]\n"
     ]
    }
   ],
   "source": [
    "# LeetCode - Easy\n",
    "# Introduction to Pandas\n",
    "# Question 2878. Get the size of a dataframe\n",
    "# https://leetcode.com/problems/get-the-size-of-a-dataframe/description/?envType=study-plan-v2&envId=introduction-to-pandas&lang=pythondata\n",
    "\n",
    "# motivation\n",
    "player_1 = [\"Aj334\", \"John\", 34, \"Attacker\"]\n",
    "player_2 = [\"d33jid\", \"Anne\", 22, \"Mid Fielder\"]\n",
    "player_3 = [\"hewNet973\", \"Youni\", 19, \"Defender\"]\n",
    "player_4 = [\"asSoonRau\", \"Hewlett\", 47, \"Goalie\"]\n",
    "player_5 = [\"daum\", \"Francis\", 39, \"Mid Fielder\"]\n",
    "\n",
    "players = [player_1, player_2, player_3, player_4, player_5]\n",
    "\n",
    "print(players)"
   ]
  },
  {
   "cell_type": "code",
   "execution_count": 2,
   "metadata": {},
   "outputs": [],
   "source": [
    "import pandas as pd\n",
    "from typing import List  # Import List for type hinting"
   ]
  },
  {
   "cell_type": "code",
   "execution_count": 3,
   "metadata": {},
   "outputs": [
    {
     "name": "stdout",
     "output_type": "stream",
     "text": [
      "           0        1   2            3\n",
      "0      Aj334     John  34     Attacker\n",
      "1     d33jid     Anne  22  Mid Fielder\n",
      "2  hewNet973    Youni  19     Defender\n",
      "3  asSoonRau  Hewlett  47       Goalie\n",
      "4       daum  Francis  39  Mid Fielder\n",
      "\n",
      "5\n",
      "4\n"
     ]
    }
   ],
   "source": [
    "players_df = pd.DataFrame(players)\n",
    "print(players_df)\n",
    "\n",
    "print()\n",
    "print(len(players_df))           # output: 5. gives the number of players: number of rows in the dataframe.\n",
    "print(len(players_df.columns))   # output: 4. gives the number of attribute within a player: number of columns in the dataframe.\n"
   ]
  },
  {
   "cell_type": "code",
   "execution_count": 4,
   "metadata": {},
   "outputs": [],
   "source": [
    "# construct a function\n",
    "def getDataframeSize(players: pd.DataFrame) -> List[int]:\n",
    "    return [len(players), len(players.columns)]"
   ]
  },
  {
   "cell_type": "code",
   "execution_count": 5,
   "metadata": {},
   "outputs": [
    {
     "name": "stdout",
     "output_type": "stream",
     "text": [
      "[5, 4]\n"
     ]
    }
   ],
   "source": [
    "# testing\n",
    "result = getDataframeSize(players_df)\n",
    "print(result) # output: [5,4]"
   ]
  },
  {
   "cell_type": "code",
   "execution_count": 9,
   "metadata": {},
   "outputs": [],
   "source": [
    "# testing\n",
    "player_1 = [846, \"Mason\", 21, \"Forward\", \"RealMarid\"]\n",
    "player_2 = [749, \"Riley\", 30, \"Winger\", \"Barcelona\"]\n",
    "player_3 = [155, \"Bob\", 28, \"Striker\", \"ManchesterUnited\"]\n",
    "player_4 = [583, \"Isabella\", 32, \"Goalkeeper\", \"Liverpool\"]\n",
    "player_5 = [388, \"Zachary\", 24, \"Midfielder\", \"BayernMunich\"]\n",
    "player_6 = [883, \"Ava\", 23, \"Defender\", \"Chelsea\"]\n",
    "player_7 = [355, \"Violet\", 18, \"Striker\", \"Juventus\"]\n",
    "player_8 = [247, \"Thomas\", 27, \"Striker\", \"ParisSaint-German\"]\n",
    "player_9 = [761, \"Jack\", 33, \"Midfielder\", \"ManchesterCity\"]\n",
    "player_10 = [642, \"Charlie\", 36, \"Center-back\", \"Arsenal\"]\n",
    "\n",
    "players = [player_1, player_2, player_3, player_4, player_5, player_6, player_7, player_8, player_9, player_10]\n",
    "\n",
    "players_df = pd.DataFrame(players)"
   ]
  },
  {
   "cell_type": "code",
   "execution_count": 10,
   "metadata": {},
   "outputs": [
    {
     "name": "stdout",
     "output_type": "stream",
     "text": [
      "[10, 5]\n"
     ]
    }
   ],
   "source": [
    "# testing\n",
    "result = getDataframeSize(players_df)\n",
    "print(result) # output: [10,5]"
   ]
  }
 ],
 "metadata": {
  "kernelspec": {
   "display_name": "base",
   "language": "python",
   "name": "python3"
  },
  "language_info": {
   "codemirror_mode": {
    "name": "ipython",
    "version": 3
   },
   "file_extension": ".py",
   "mimetype": "text/x-python",
   "name": "python",
   "nbconvert_exporter": "python",
   "pygments_lexer": "ipython3",
   "version": "3.11.5"
  }
 },
 "nbformat": 4,
 "nbformat_minor": 2
}
